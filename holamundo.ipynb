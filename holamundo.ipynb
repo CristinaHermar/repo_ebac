{
 "cells": [
  {
   "cell_type": "code",
   "execution_count": 2,
   "id": "e52323dd-90aa-46b6-987f-b5776127724d",
   "metadata": {},
   "outputs": [
    {
     "name": "stdout",
     "output_type": "stream",
     "text": [
      "holamundo\n"
     ]
    }
   ],
   "source": [
    "print(\"holamundo\")"
   ]
  },
  {
   "cell_type": "code",
   "execution_count": null,
   "id": "e11643f5-3854-4fdc-b304-4f7f6a4d03ce",
   "metadata": {},
   "outputs": [],
   "source": []
  }
 ],
 "metadata": {
  "kernelspec": {
   "display_name": "Python 3 (ipykernel)",
   "language": "python",
   "name": "python3"
  },
  "language_info": {
   "codemirror_mode": {
    "name": "ipython",
    "version": 3
   },
   "file_extension": ".py",
   "mimetype": "text/x-python",
   "name": "python",
   "nbconvert_exporter": "python",
   "pygments_lexer": "ipython3",
   "version": "3.12.7"
  }
 },
 "nbformat": 4,
 "nbformat_minor": 5
}
